{
 "cells": [
  {
   "cell_type": "code",
   "execution_count": 1,
   "metadata": {},
   "outputs": [],
   "source": [
    "from math import *\n",
    "import matplotlib.pyplot as plt\n",
    "%matplotlib inline"
   ]
  },
  {
   "cell_type": "code",
   "execution_count": 16,
   "metadata": {},
   "outputs": [],
   "source": [
    "def yre(fg, d, s=0): #固定y座標\n",
    "    for i in d:\n",
    "        x = 2 * fg + sqrt(4*fg**2+i[1]**2)\n",
    "        s += abs(i[0] - x)\n",
    "        # s += (i[0] - x)**2\n",
    "    return s\n",
    "def xre(fg, d, s=0): #固定x座標\n",
    "    for i in d:\n",
    "        y = sqrt(i[0]**2 - 4*i[0]*fg)\n",
    "        s += abs(i[1] - y)\n",
    "    return s\n",
    "def recursion(fg, d, s=0): #正交回歸\n",
    "    for i in d:\n",
    "        m = -2*i[1] / (2*i[0] - 4*fg)\n",
    "        x = (2*i[1]*m - 2*i[0]*m**2 + 4*fg)+ \\\n",
    "        sqrt((2*i[1]*m - 2*i[0]*m**2 + 4*fg)**2 + 4*(1-m**2)*(i[0]*m**2 - 2*i[1]*i[0]*m + i[1]**2))\n",
    "        y = m*(x-i[0]) + i[1]\n",
    "        s += sqrt((x - i[0])**2 + (y - i[1])**2)\n",
    "    return s"
   ]
  },
  {
   "cell_type": "code",
   "execution_count": 17,
   "metadata": {},
   "outputs": [
    {
     "name": "stdout",
     "output_type": "stream",
     "text": [
      "固定x座標 35.90999999999982\n",
      "固定y座標 35.90999999999982\n",
      "正交回歸 35\n"
     ]
    }
   ],
   "source": [
    "data = [(170, 66.4), (160, 52.25), (155, 44.1), (150, 27.4), (148.8, 27.7)]\n",
    "a = 35\n",
    "rx = []\n",
    "resultx = {}\n",
    "ry = []\n",
    "resulty = {}\n",
    "rre = []\n",
    "resultre = {}\n",
    "while a <= 36.5:\n",
    "    resulty[yre(a,data)] = a\n",
    "    resultx[xre(a,data)] = a\n",
    "    resultre[recursion(a,data)] = a\n",
    "    rx.append(xre(a,data))\n",
    "    ry.append(yre(a,data))\n",
    "    rre.append(recursion(a,data))\n",
    "    a += 0.01\n",
    "print(\"固定x座標\", resultx[min(rx)])\n",
    "print(\"固定y座標\", resulty[min(ry)])\n",
    "print(\"正交回歸\", resultre[min(rre)])"
   ]
  },
  {
   "cell_type": "code",
   "execution_count": null,
   "metadata": {},
   "outputs": [],
   "source": []
  }
 ],
 "metadata": {
  "kernelspec": {
   "display_name": "Python 3",
   "language": "python",
   "name": "python3"
  },
  "language_info": {
   "codemirror_mode": {
    "name": "ipython",
    "version": 3
   },
   "file_extension": ".py",
   "mimetype": "text/x-python",
   "name": "python",
   "nbconvert_exporter": "python",
   "pygments_lexer": "ipython3",
   "version": "3.7.6"
  }
 },
 "nbformat": 4,
 "nbformat_minor": 4
}
